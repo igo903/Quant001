{
 "cells": [
  {
   "cell_type": "code",
   "execution_count": 6,
   "metadata": {},
   "outputs": [
    {
     "name": "stdout",
     "output_type": "stream",
     "text": [
      "Requirement already satisfied: pandas_datareader in c:\\users\\wikiglobal\\anaconda3\\lib\\site-packages (0.10.0)\n",
      "Requirement already satisfied: pandas>=0.23 in c:\\users\\wikiglobal\\anaconda3\\lib\\site-packages (from pandas_datareader) (2.0.1)\n",
      "Requirement already satisfied: requests>=2.19.0 in c:\\users\\wikiglobal\\anaconda3\\lib\\site-packages (from pandas_datareader) (2.28.1)\n",
      "Requirement already satisfied: lxml in c:\\users\\wikiglobal\\anaconda3\\lib\\site-packages (from pandas_datareader) (4.9.1)\n",
      "Requirement already satisfied: python-dateutil>=2.8.2 in c:\\users\\wikiglobal\\anaconda3\\lib\\site-packages (from pandas>=0.23->pandas_datareader) (2.8.2)\n",
      "Requirement already satisfied: numpy>=1.21.0 in c:\\users\\wikiglobal\\anaconda3\\lib\\site-packages (from pandas>=0.23->pandas_datareader) (1.24.3)\n",
      "Requirement already satisfied: pytz>=2020.1 in c:\\users\\wikiglobal\\anaconda3\\lib\\site-packages (from pandas>=0.23->pandas_datareader) (2022.7)\n",
      "Requirement already satisfied: tzdata>=2022.1 in c:\\users\\wikiglobal\\anaconda3\\lib\\site-packages (from pandas>=0.23->pandas_datareader) (2023.3)\n",
      "Requirement already satisfied: urllib3<1.27,>=1.21.1 in c:\\users\\wikiglobal\\anaconda3\\lib\\site-packages (from requests>=2.19.0->pandas_datareader) (1.26.14)\n",
      "Requirement already satisfied: idna<4,>=2.5 in c:\\users\\wikiglobal\\anaconda3\\lib\\site-packages (from requests>=2.19.0->pandas_datareader) (3.4)\n",
      "Requirement already satisfied: charset-normalizer<3,>=2 in c:\\users\\wikiglobal\\anaconda3\\lib\\site-packages (from requests>=2.19.0->pandas_datareader) (2.0.4)\n",
      "Requirement already satisfied: certifi>=2017.4.17 in c:\\users\\wikiglobal\\anaconda3\\lib\\site-packages (from requests>=2.19.0->pandas_datareader) (2022.12.7)\n",
      "Requirement already satisfied: six>=1.5 in c:\\users\\wikiglobal\\anaconda3\\lib\\site-packages (from python-dateutil>=2.8.2->pandas>=0.23->pandas_datareader) (1.16.0)\n",
      "Requirement already satisfied: tushare in c:\\users\\wikiglobal\\anaconda3\\lib\\site-packages (1.2.89)\n",
      "Requirement already satisfied: simplejson in c:\\users\\wikiglobal\\anaconda3\\lib\\site-packages (from tushare) (3.19.1)\n",
      "Requirement already satisfied: requests in c:\\users\\wikiglobal\\anaconda3\\lib\\site-packages (from tushare) (2.28.1)\n",
      "Requirement already satisfied: pandas in c:\\users\\wikiglobal\\anaconda3\\lib\\site-packages (from tushare) (2.0.1)\n",
      "Requirement already satisfied: bs4 in c:\\users\\wikiglobal\\anaconda3\\lib\\site-packages (from tushare) (0.0.1)\n",
      "Requirement already satisfied: lxml in c:\\users\\wikiglobal\\anaconda3\\lib\\site-packages (from tushare) (4.9.1)\n",
      "Requirement already satisfied: websocket-client==0.57.0 in c:\\users\\wikiglobal\\anaconda3\\lib\\site-packages (from tushare) (0.57.0)\n",
      "Requirement already satisfied: six in c:\\users\\wikiglobal\\anaconda3\\lib\\site-packages (from websocket-client==0.57.0->tushare) (1.16.0)\n",
      "Requirement already satisfied: beautifulsoup4 in c:\\users\\wikiglobal\\anaconda3\\lib\\site-packages (from bs4->tushare) (4.11.1)\n",
      "Requirement already satisfied: pytz>=2020.1 in c:\\users\\wikiglobal\\anaconda3\\lib\\site-packages (from pandas->tushare) (2022.7)\n",
      "Requirement already satisfied: tzdata>=2022.1 in c:\\users\\wikiglobal\\anaconda3\\lib\\site-packages (from pandas->tushare) (2023.3)\n",
      "Requirement already satisfied: python-dateutil>=2.8.2 in c:\\users\\wikiglobal\\anaconda3\\lib\\site-packages (from pandas->tushare) (2.8.2)\n",
      "Requirement already satisfied: numpy>=1.21.0 in c:\\users\\wikiglobal\\anaconda3\\lib\\site-packages (from pandas->tushare) (1.24.3)\n",
      "Requirement already satisfied: idna<4,>=2.5 in c:\\users\\wikiglobal\\anaconda3\\lib\\site-packages (from requests->tushare) (3.4)\n",
      "Requirement already satisfied: certifi>=2017.4.17 in c:\\users\\wikiglobal\\anaconda3\\lib\\site-packages (from requests->tushare) (2022.12.7)\n",
      "Requirement already satisfied: charset-normalizer<3,>=2 in c:\\users\\wikiglobal\\anaconda3\\lib\\site-packages (from requests->tushare) (2.0.4)\n",
      "Requirement already satisfied: urllib3<1.27,>=1.21.1 in c:\\users\\wikiglobal\\anaconda3\\lib\\site-packages (from requests->tushare) (1.26.14)\n",
      "Requirement already satisfied: soupsieve>1.2 in c:\\users\\wikiglobal\\anaconda3\\lib\\site-packages (from beautifulsoup4->bs4->tushare) (2.3.2.post1)\n",
      "Requirement already satisfied: akshare in c:\\users\\wikiglobal\\anaconda3\\lib\\site-packages (1.9.73)\n",
      "Requirement already satisfied: requests>=2.22.0 in c:\\users\\wikiglobal\\anaconda3\\lib\\site-packages (from akshare) (2.28.1)\n",
      "Requirement already satisfied: jsonpath>=0.82 in c:\\users\\wikiglobal\\anaconda3\\lib\\site-packages (from akshare) (0.82)\n",
      "Requirement already satisfied: urllib3>=1.25.8 in c:\\users\\wikiglobal\\anaconda3\\lib\\site-packages (from akshare) (1.26.14)\n",
      "Requirement already satisfied: lxml>=4.2.1 in c:\\users\\wikiglobal\\anaconda3\\lib\\site-packages (from akshare) (4.9.1)\n",
      "Requirement already satisfied: pypinyin>=0.35.0 in c:\\users\\wikiglobal\\anaconda3\\lib\\site-packages (from akshare) (0.48.0)\n",
      "Requirement already satisfied: html5lib>=1.0.1 in c:\\users\\wikiglobal\\anaconda3\\lib\\site-packages (from akshare) (1.1)\n",
      "Requirement already satisfied: tabulate>=0.8.6 in c:\\users\\wikiglobal\\anaconda3\\lib\\site-packages (from akshare) (0.8.10)\n",
      "Requirement already satisfied: xlrd>=1.2.0 in c:\\users\\wikiglobal\\anaconda3\\lib\\site-packages (from akshare) (2.0.1)\n",
      "Requirement already satisfied: requests-cache>=0.9.3 in c:\\users\\wikiglobal\\anaconda3\\lib\\site-packages (from akshare) (1.0.1)\n",
      "Requirement already satisfied: pandas>=0.25 in c:\\users\\wikiglobal\\anaconda3\\lib\\site-packages (from akshare) (2.0.1)\n",
      "Requirement already satisfied: tqdm>=4.43.0 in c:\\users\\wikiglobal\\anaconda3\\lib\\site-packages (from akshare) (4.64.1)\n",
      "Requirement already satisfied: decorator>=4.4.2 in c:\\users\\wikiglobal\\anaconda3\\lib\\site-packages (from akshare) (5.1.1)\n",
      "Requirement already satisfied: py-mini-racer>=0.6.0 in c:\\users\\wikiglobal\\anaconda3\\lib\\site-packages (from akshare) (0.6.0)\n",
      "Requirement already satisfied: openpyxl>=3.0.3 in c:\\users\\wikiglobal\\anaconda3\\lib\\site-packages (from akshare) (3.0.10)\n",
      "Requirement already satisfied: websocket-client>=0.56.0 in c:\\users\\wikiglobal\\anaconda3\\lib\\site-packages (from akshare) (0.57.0)\n",
      "Requirement already satisfied: beautifulsoup4>=4.9.1 in c:\\users\\wikiglobal\\anaconda3\\lib\\site-packages (from akshare) (4.11.1)\n",
      "Requirement already satisfied: soupsieve>1.2 in c:\\users\\wikiglobal\\anaconda3\\lib\\site-packages (from beautifulsoup4>=4.9.1->akshare) (2.3.2.post1)\n",
      "Requirement already satisfied: webencodings in c:\\users\\wikiglobal\\anaconda3\\lib\\site-packages (from html5lib>=1.0.1->akshare) (0.5.1)\n",
      "Requirement already satisfied: six>=1.9 in c:\\users\\wikiglobal\\anaconda3\\lib\\site-packages (from html5lib>=1.0.1->akshare) (1.16.0)\n",
      "Requirement already satisfied: et_xmlfile in c:\\users\\wikiglobal\\anaconda3\\lib\\site-packages (from openpyxl>=3.0.3->akshare) (1.1.0)\n",
      "Requirement already satisfied: python-dateutil>=2.8.2 in c:\\users\\wikiglobal\\anaconda3\\lib\\site-packages (from pandas>=0.25->akshare) (2.8.2)\n",
      "Requirement already satisfied: tzdata>=2022.1 in c:\\users\\wikiglobal\\anaconda3\\lib\\site-packages (from pandas>=0.25->akshare) (2023.3)\n",
      "Requirement already satisfied: pytz>=2020.1 in c:\\users\\wikiglobal\\anaconda3\\lib\\site-packages (from pandas>=0.25->akshare) (2022.7)\n",
      "Requirement already satisfied: numpy>=1.21.0 in c:\\users\\wikiglobal\\anaconda3\\lib\\site-packages (from pandas>=0.25->akshare) (1.24.3)\n",
      "Requirement already satisfied: certifi>=2017.4.17 in c:\\users\\wikiglobal\\anaconda3\\lib\\site-packages (from requests>=2.22.0->akshare) (2022.12.7)\n",
      "Requirement already satisfied: idna<4,>=2.5 in c:\\users\\wikiglobal\\anaconda3\\lib\\site-packages (from requests>=2.22.0->akshare) (3.4)\n",
      "Requirement already satisfied: charset-normalizer<3,>=2 in c:\\users\\wikiglobal\\anaconda3\\lib\\site-packages (from requests>=2.22.0->akshare) (2.0.4)\n",
      "Requirement already satisfied: url-normalize>=1.4 in c:\\users\\wikiglobal\\anaconda3\\lib\\site-packages (from requests-cache>=0.9.3->akshare) (1.4.3)\n",
      "Requirement already satisfied: attrs>=21.2 in c:\\users\\wikiglobal\\anaconda3\\lib\\site-packages (from requests-cache>=0.9.3->akshare) (22.1.0)\n",
      "Requirement already satisfied: cattrs>=22.2 in c:\\users\\wikiglobal\\anaconda3\\lib\\site-packages (from requests-cache>=0.9.3->akshare) (22.2.0)\n",
      "Requirement already satisfied: platformdirs>=2.5 in c:\\users\\wikiglobal\\anaconda3\\lib\\site-packages (from requests-cache>=0.9.3->akshare) (2.5.2)\n",
      "Requirement already satisfied: colorama in c:\\users\\wikiglobal\\anaconda3\\lib\\site-packages (from tqdm>=4.43.0->akshare) (0.4.6)\n",
      "Requirement already satisfied: exceptiongroup in c:\\users\\wikiglobal\\anaconda3\\lib\\site-packages (from cattrs>=22.2->requests-cache>=0.9.3->akshare) (1.1.1)\n",
      "Requirement already satisfied: pandas in c:\\users\\wikiglobal\\anaconda3\\lib\\site-packages (2.0.1)\n",
      "Requirement already satisfied: python-dateutil>=2.8.2 in c:\\users\\wikiglobal\\anaconda3\\lib\\site-packages (from pandas) (2.8.2)\n",
      "Requirement already satisfied: pytz>=2020.1 in c:\\users\\wikiglobal\\anaconda3\\lib\\site-packages (from pandas) (2022.7)\n",
      "Requirement already satisfied: numpy>=1.21.0 in c:\\users\\wikiglobal\\anaconda3\\lib\\site-packages (from pandas) (1.24.3)\n",
      "Requirement already satisfied: tzdata>=2022.1 in c:\\users\\wikiglobal\\anaconda3\\lib\\site-packages (from pandas) (2023.3)\n",
      "Requirement already satisfied: six>=1.5 in c:\\users\\wikiglobal\\anaconda3\\lib\\site-packages (from python-dateutil>=2.8.2->pandas) (1.16.0)\n",
      "Requirement already satisfied: numpy in c:\\users\\wikiglobal\\anaconda3\\lib\\site-packages (1.24.3)\n",
      "Requirement already satisfied: matplotlib in c:\\users\\wikiglobal\\anaconda3\\lib\\site-packages (3.7.0)\n",
      "Collecting matplotlib\n",
      "  Downloading matplotlib-3.7.1-cp310-cp310-win_amd64.whl (7.6 MB)\n",
      "     ---------------------------------------- 7.6/7.6 MB 3.4 MB/s eta 0:00:00\n",
      "Requirement already satisfied: kiwisolver>=1.0.1 in c:\\users\\wikiglobal\\anaconda3\\lib\\site-packages (from matplotlib) (1.4.4)\n",
      "Requirement already satisfied: python-dateutil>=2.7 in c:\\users\\wikiglobal\\anaconda3\\lib\\site-packages (from matplotlib) (2.8.2)\n",
      "Requirement already satisfied: fonttools>=4.22.0 in c:\\users\\wikiglobal\\anaconda3\\lib\\site-packages (from matplotlib) (4.25.0)\n",
      "Requirement already satisfied: contourpy>=1.0.1 in c:\\users\\wikiglobal\\anaconda3\\lib\\site-packages (from matplotlib) (1.0.5)\n",
      "Requirement already satisfied: packaging>=20.0 in c:\\users\\wikiglobal\\anaconda3\\lib\\site-packages (from matplotlib) (22.0)\n",
      "Requirement already satisfied: pillow>=6.2.0 in c:\\users\\wikiglobal\\anaconda3\\lib\\site-packages (from matplotlib) (9.4.0)\n",
      "Requirement already satisfied: pyparsing>=2.3.1 in c:\\users\\wikiglobal\\anaconda3\\lib\\site-packages (from matplotlib) (3.0.9)\n",
      "Requirement already satisfied: numpy>=1.20 in c:\\users\\wikiglobal\\anaconda3\\lib\\site-packages (from matplotlib) (1.24.3)\n",
      "Requirement already satisfied: cycler>=0.10 in c:\\users\\wikiglobal\\anaconda3\\lib\\site-packages (from matplotlib) (0.11.0)\n",
      "Requirement already satisfied: six>=1.5 in c:\\users\\wikiglobal\\anaconda3\\lib\\site-packages (from python-dateutil>=2.7->matplotlib) (1.16.0)\n",
      "Installing collected packages: matplotlib\n",
      "  Attempting uninstall: matplotlib\n",
      "    Found existing installation: matplotlib 3.7.0\n",
      "    Uninstalling matplotlib-3.7.0:\n",
      "      Successfully uninstalled matplotlib-3.7.0\n",
      "Successfully installed matplotlib-3.7.1\n"
     ]
    }
   ],
   "source": [
    "!pip3 install pandas_datareader --upgrade\n",
    "!pip3 install tushare --upgrade\n",
    "!pip3 install akshare --upgrade\n",
    "!pip3 install pandas --upgrade\n",
    "!pip3 install numpy --upgrade\n",
    "!pip3 install matplotlib --upgrade"
   ]
  },
  {
   "cell_type": "code",
   "execution_count": 1,
   "metadata": {},
   "outputs": [
    {
     "data": {
      "text/plain": [
       "'1.2.89'"
      ]
     },
     "execution_count": 1,
     "metadata": {},
     "output_type": "execute_result"
    }
   ],
   "source": [
    "\n",
    "\n",
    "import pandas as pd\n",
    "import pandas_datareader as web\n",
    "import numpy as np\n",
    "import tushare as ts\n",
    "\n",
    "web.__version__\n",
    "ts.__version__\n"
   ]
  },
  {
   "cell_type": "code",
   "execution_count": 3,
   "metadata": {},
   "outputs": [],
   "source": [
    "\n",
    "token = 'b1cd999ffdeaa7e89c60e31f04aa8ef44b6e1ef8511232b63257d460'\n",
    "ts.set_token(token)\n",
    "\n",
    "def load_stock(start_date, end_date, output_file):\n",
    "    try:\n",
    "        df = pd.read_pickle(output_file)\n",
    "        print('stock data loaded')\n",
    "    except FileNotFoundError:\n",
    "        print('404 Not Found, reloading...')\n",
    "        df = ts.pro_bar('600570.SH', start_date, end_date)\n",
    "        df.to_pickle(output_file)\n",
    "        print('download complete')\n",
    "    return df\n"
   ]
  },
  {
   "cell_type": "code",
   "execution_count": 4,
   "metadata": {},
   "outputs": [
    {
     "name": "stdout",
     "output_type": "stream",
     "text": [
      "404 Not Found, reloading...\n",
      "'str' object has no attribute 'daily'\n",
      "'str' object has no attribute 'daily'\n",
      "'str' object has no attribute 'daily'\n"
     ]
    },
    {
     "ename": "OSError",
     "evalue": "ERROR.",
     "output_type": "error",
     "traceback": [
      "\u001b[1;31m---------------------------------------------------------------------------\u001b[0m",
      "\u001b[1;31mFileNotFoundError\u001b[0m                         Traceback (most recent call last)",
      "Cell \u001b[1;32mIn[3], line 6\u001b[0m, in \u001b[0;36mload_stock\u001b[1;34m(start_date, end_date, output_file)\u001b[0m\n\u001b[0;32m      5\u001b[0m \u001b[39mtry\u001b[39;00m:\n\u001b[1;32m----> 6\u001b[0m     df \u001b[39m=\u001b[39m pd\u001b[39m.\u001b[39;49mread_pickle(output_file)\n\u001b[0;32m      7\u001b[0m     \u001b[39mprint\u001b[39m(\u001b[39m'\u001b[39m\u001b[39mstock data loaded\u001b[39m\u001b[39m'\u001b[39m)\n",
      "File \u001b[1;32mc:\\Users\\WikiGlobal\\anaconda3\\lib\\site-packages\\pandas\\io\\pickle.py:179\u001b[0m, in \u001b[0;36mread_pickle\u001b[1;34m(filepath_or_buffer, compression, storage_options)\u001b[0m\n\u001b[0;32m    178\u001b[0m excs_to_catch \u001b[39m=\u001b[39m (\u001b[39mAttributeError\u001b[39;00m, \u001b[39mImportError\u001b[39;00m, \u001b[39mModuleNotFoundError\u001b[39;00m, \u001b[39mTypeError\u001b[39;00m)\n\u001b[1;32m--> 179\u001b[0m \u001b[39mwith\u001b[39;00m get_handle(\n\u001b[0;32m    180\u001b[0m     filepath_or_buffer,\n\u001b[0;32m    181\u001b[0m     \u001b[39m\"\u001b[39;49m\u001b[39mrb\u001b[39;49m\u001b[39m\"\u001b[39;49m,\n\u001b[0;32m    182\u001b[0m     compression\u001b[39m=\u001b[39;49mcompression,\n\u001b[0;32m    183\u001b[0m     is_text\u001b[39m=\u001b[39;49m\u001b[39mFalse\u001b[39;49;00m,\n\u001b[0;32m    184\u001b[0m     storage_options\u001b[39m=\u001b[39;49mstorage_options,\n\u001b[0;32m    185\u001b[0m ) \u001b[39mas\u001b[39;00m handles:\n\u001b[0;32m    186\u001b[0m     \u001b[39m# 1) try standard library Pickle\u001b[39;00m\n\u001b[0;32m    187\u001b[0m     \u001b[39m# 2) try pickle_compat (older pandas version) to handle subclass changes\u001b[39;00m\n\u001b[0;32m    188\u001b[0m     \u001b[39m# 3) try pickle_compat with latin-1 encoding upon a UnicodeDecodeError\u001b[39;00m\n\u001b[0;32m    190\u001b[0m     \u001b[39mtry\u001b[39;00m:\n\u001b[0;32m    191\u001b[0m         \u001b[39m# TypeError for Cython complaints about object.__new__ vs Tick.__new__\u001b[39;00m\n",
      "File \u001b[1;32mc:\\Users\\WikiGlobal\\anaconda3\\lib\\site-packages\\pandas\\io\\common.py:868\u001b[0m, in \u001b[0;36mget_handle\u001b[1;34m(path_or_buf, mode, encoding, compression, memory_map, is_text, errors, storage_options)\u001b[0m\n\u001b[0;32m    866\u001b[0m \u001b[39melse\u001b[39;00m:\n\u001b[0;32m    867\u001b[0m     \u001b[39m# Binary mode\u001b[39;00m\n\u001b[1;32m--> 868\u001b[0m     handle \u001b[39m=\u001b[39m \u001b[39mopen\u001b[39;49m(handle, ioargs\u001b[39m.\u001b[39;49mmode)\n\u001b[0;32m    869\u001b[0m handles\u001b[39m.\u001b[39mappend(handle)\n",
      "\u001b[1;31mFileNotFoundError\u001b[0m: [Errno 2] No such file or directory: '600570.pkl'",
      "\nDuring handling of the above exception, another exception occurred:\n",
      "\u001b[1;31mOSError\u001b[0m                                   Traceback (most recent call last)",
      "Cell \u001b[1;32mIn[4], line 1\u001b[0m\n\u001b[1;32m----> 1\u001b[0m zgpa \u001b[39m=\u001b[39m load_stock(start_date\u001b[39m=\u001b[39;49m\u001b[39m'\u001b[39;49m\u001b[39m2023-01-01\u001b[39;49m\u001b[39m'\u001b[39;49m, end_date\u001b[39m=\u001b[39;49m\u001b[39m'\u001b[39;49m\u001b[39m2023-04-30\u001b[39;49m\u001b[39m'\u001b[39;49m,output_file\u001b[39m=\u001b[39;49m\u001b[39m'\u001b[39;49m\u001b[39m600570.pkl\u001b[39;49m\u001b[39m'\u001b[39;49m)\n",
      "Cell \u001b[1;32mIn[3], line 10\u001b[0m, in \u001b[0;36mload_stock\u001b[1;34m(start_date, end_date, output_file)\u001b[0m\n\u001b[0;32m      8\u001b[0m \u001b[39mexcept\u001b[39;00m \u001b[39mFileNotFoundError\u001b[39;00m:\n\u001b[0;32m      9\u001b[0m     \u001b[39mprint\u001b[39m(\u001b[39m'\u001b[39m\u001b[39m404 Not Found, reloading...\u001b[39m\u001b[39m'\u001b[39m)\n\u001b[1;32m---> 10\u001b[0m     df \u001b[39m=\u001b[39m ts\u001b[39m.\u001b[39;49mpro_bar(\u001b[39m'\u001b[39;49m\u001b[39m600570.SH\u001b[39;49m\u001b[39m'\u001b[39;49m, start_date, end_date)\n\u001b[0;32m     11\u001b[0m     df\u001b[39m.\u001b[39mto_pickle(output_file)\n\u001b[0;32m     12\u001b[0m     \u001b[39mprint\u001b[39m(\u001b[39m'\u001b[39m\u001b[39mdownload complete\u001b[39m\u001b[39m'\u001b[39m)\n",
      "File \u001b[1;32mc:\\Users\\WikiGlobal\\anaconda3\\lib\\site-packages\\tushare\\pro\\data_pro.py:196\u001b[0m, in \u001b[0;36mpro_bar\u001b[1;34m(ts_code, api, start_date, end_date, freq, asset, exchange, adj, ma, factors, adjfactor, offset, limit, contract_type, retry_count)\u001b[0m\n\u001b[0;32m    194\u001b[0m     \u001b[39melse\u001b[39;00m:\n\u001b[0;32m    195\u001b[0m         \u001b[39mreturn\u001b[39;00m data\n\u001b[1;32m--> 196\u001b[0m \u001b[39mraise\u001b[39;00m \u001b[39mIOError\u001b[39;00m(\u001b[39m'\u001b[39m\u001b[39mERROR.\u001b[39m\u001b[39m'\u001b[39m)\n",
      "\u001b[1;31mOSError\u001b[0m: ERROR."
     ]
    }
   ],
   "source": [
    "zgpa = load_stock(start_date='2023-01-01', end_date='2023-04-30',output_file='600570.pkl')"
   ]
  }
 ],
 "metadata": {
  "kernelspec": {
   "display_name": "base",
   "language": "python",
   "name": "python3"
  },
  "language_info": {
   "codemirror_mode": {
    "name": "ipython",
    "version": 3
   },
   "file_extension": ".py",
   "mimetype": "text/x-python",
   "name": "python",
   "nbconvert_exporter": "python",
   "pygments_lexer": "ipython3",
   "version": "3.10.9"
  },
  "orig_nbformat": 4
 },
 "nbformat": 4,
 "nbformat_minor": 2
}
